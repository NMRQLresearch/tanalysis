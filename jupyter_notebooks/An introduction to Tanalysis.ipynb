{
 "cells": [
  {
   "cell_type": "markdown",
   "metadata": {
    "deletable": true,
    "editable": true
   },
   "source": [
    "### An introduction to _Tanalysis_\n",
    "\n",
    "#### A simple python package for utilising basic tensor network decompositions in a data-science context\n",
    "\n",
    "Over the last two-decades, tensor network decompositions have played a huge role in the many-body physics and quantum information communities, where they have proven themselves as an essential tool in the process of both understanding and exploiting the correlation structure of many-body quantum states. For great introductions to such decompositions -  primarily aimed at the physics community - see [here](https://arxiv.org/abs/1603.03039), [here](https://arxiv.org/abs/1008.3477) and [here](https://arxiv.org/abs/1306.2164).\n",
    "\n",
    "However, more recently, tensor network decompositions have started to attract the attention of the machine learning and data science communities. From the learning algorithms perspective tensor networks have recently begun to be utilized, amongst other applications, as a tool for investigating and understanding the [properties of deep neural networks](https://arxiv.org/abs/1704.01552), [compressing neural network layers](https://arxiv.org/abs/1611.03214) and designing [new learning algorithms](https://arxiv.org/abs/1605.05775). From a more data science perspective, it has been recognized how various tensor network decompositions can be utilised for [feature extraction and dimensionality reduction](https://arxiv.org/abs/1403.2048), particularly within the context of [multi-dimensional datasets](https://arxiv.org/abs/1503.00516), represented by [higher order tensors](https://arxiv.org/abs/1503.00516v2), such as video and colour images.\n",
    "\n",
    "Tanalysis is a package aimed at facilitating the use of various Matrix Product State decompositions for feature extraction and dimensionality reduction. In particular the goal is to allow flexibility and ease of use, with the hope of both spurring research in this domain, while simultaneously allowing quick and easy comparisons with existing methods on real world datasets and problems.\n",
    "\n",
    "<img src='tanalysis.jpeg'>"
   ]
  },
  {
   "cell_type": "markdown",
   "metadata": {
    "deletable": true,
    "editable": true
   },
   "source": [
    "#### Example usage:\n",
    "\n",
    "In what follows we illustrate the functionality provided for in the current version of tanalysis, by looking at the [MNIST](http://yann.lecun.com/exdb/mnist/) dataset.\n",
    "\n",
    "\n",
    "We begin by importing the packages we are going to use for this demonstration. In particular, in addition to tanalysis and its dependency tncontract, we will use both tensorflow and Keras, in order to illustrate a full typical use-case scenario. We also import the MNIST dataset, which is provided via tensorflow."
   ]
  },
  {
   "cell_type": "code",
   "execution_count": 1,
   "metadata": {
    "collapsed": false,
    "deletable": true,
    "editable": true
   },
   "outputs": [
    {
     "name": "stderr",
     "output_type": "stream",
     "text": [
      "Using TensorFlow backend.\n"
     ]
    },
    {
     "name": "stdout",
     "output_type": "stream",
     "text": [
      "Extracting MNIST_data/train-images-idx3-ubyte.gz\n",
      "Extracting MNIST_data/train-labels-idx1-ubyte.gz\n",
      "Extracting MNIST_data/t10k-images-idx3-ubyte.gz\n",
      "Extracting MNIST_data/t10k-labels-idx1-ubyte.gz\n"
     ]
    }
   ],
   "source": [
    "import tensorflow as tf\n",
    "import numpy as np\n",
    "from numpy import random as rd\n",
    "import tncontract as tn\n",
    "import tanalysis as ta\n",
    "import time\n",
    "\n",
    "from keras.callbacks import EarlyStopping, ModelCheckpoint\n",
    "from keras.models import Sequential, load_model\n",
    "from keras.regularizers import l1_l2\n",
    "from keras.layers import Dense, Dropout\n",
    "\n",
    "%matplotlib inline\n",
    "import matplotlib.pyplot as plt\n",
    "\n",
    "from tensorflow.examples.tutorials.mnist import input_data\n",
    "mnist = input_data.read_data_sets(\"MNIST_data/\", one_hot=True)"
   ]
  },
  {
   "cell_type": "markdown",
   "metadata": {
    "deletable": true,
    "editable": true
   },
   "source": [
    "We now organize the larger MNIST dataset into three seperate datasets:\n",
    "\n",
    "   1. training_data - a 55000x784 matrix\n",
    "   2. test_data - a 10000x784 matrix\n",
    "   3. total_data - a 65000x784 matrix\n",
    "   \n",
    "Each of these seperate datasets consists of multiple images, each one defined by 784 features, which are the greyscale values of the individual pixels."
   ]
  },
  {
   "cell_type": "code",
   "execution_count": 2,
   "metadata": {
    "collapsed": false,
    "deletable": true,
    "editable": true
   },
   "outputs": [],
   "source": [
    "training_data = mnist.train.images\n",
    "training_labels = mnist.train.labels\n",
    "\n",
    "test_data = mnist.test.images\n",
    "test_labels = mnist.test.labels\n",
    "\n",
    "training_set_size = np.shape(training_data)[0]\n",
    "test_set_size = np.shape(test_data)[0]\n",
    "total_set_size = training_set_size + test_set_size\n",
    "\n",
    "total_data = np.zeros((total_set_size, np.shape(training_data)[1]))\n",
    "total_data[:training_set_size, :] = training_data\n",
    "total_data[training_set_size:, :] = test_data"
   ]
  },
  {
   "cell_type": "markdown",
   "metadata": {
    "deletable": true,
    "editable": true
   },
   "source": [
    "Now we can get going with our feature extraction and dimensionality reduction. \n",
    "\n",
    "The first step in any of the tensor network decomposition procedures is to _tensorize_ the data by proving a valid factorization of the features dimension of the dataset - i.e. we want to transform our data matrix into a higher order tensor - see [this](https://arxiv.org/abs/1603.03039) introduction to tensor networks if this step, or the following diagrammatic notation, is unclear in any way.\n",
    "\n",
    "<img src='decomp2.jpeg'>\n",
    "\n",
    "Note that in many natural scenarios, such as colour images, video, or financial data, the dataset will be naturally provided as a higher-order (higher than two) tensor, and as such this first step may be unnecessary (it is however, and open question whether or not an alternative tensorization of a dataset may be helpful in extracting meaningful features, or achieving better compression).\n",
    "\n",
    "In order to tensorize data in tanalysis (which runs on top of [tncontract](https://github.com/andrewdarmawan/tncontract)) one can either provide a custom factorization or generate one using built in methods. By convention a tensorization in tanalysis should be specified by three objects:\n",
    "\n",
    "   1. A list detailing the factorization. The first element of this list must always be the number of examples (typically rows) in the dataset - i.e in the top tensorization shown in the above image this list would be [55000, 7,2,4,2,7].\n",
    "   2. A list detailing the labels of the tensor indices. The first element of this list should always be the string \"batchsize\" and the subsequent elements of the list should be strings enumerating the number of tensor indices, starting at 1 - i.e. [\"batchsize\",\"1\",\"2\",\"3\",\"4\",\"5\"].\n",
    "   3. An integer specifying where the batch size index should be placed in the tensorization - i.e. specifiying 3 for the batch size position would result in the tensorization shown in the image below.\n",
    "   \n",
    "<img src='bsp.jpeg'>\n",
    "   \n",
    "Finally, once the tensorization has been fully specified, as above, we can use tncontract to convert the initial data tensor into a tncontract tensor object with the specified tensorization."
   ]
  },
  {
   "cell_type": "code",
   "execution_count": 3,
   "metadata": {
    "collapsed": true,
    "deletable": true,
    "editable": true
   },
   "outputs": [],
   "source": [
    "num_features = np.shape(training_data)[1]\n",
    "\n",
    "# We can use built in functionality to generate a symmetrized maximum length factorization i.e. [550000,2,2,7,7,2,2]\n",
    "pre_partition = ta.symmetrize(ta.raw_partition(num_features))   \n",
    "partition = [training_set_size]\n",
    "partition.extend(pre_partition)\n",
    "\n",
    "# We generate the labels according to the convention\n",
    "tensor_labels = [\"batchsize\"] \n",
    "labels = [str(j + 1) for j in range(np.size(pre_partition))]     \n",
    "tensor_labels.extend(labels)\n",
    "\n",
    "# We specify that the batch size index should be placed in the centre\n",
    "num_cores = np.size(partition)\n",
    "batch_size_position = int(round((num_cores - 1) / 2))        \n",
    "\n",
    "# Finally we tensorize the data via tncontract, and move the batch size index into the specified position\n",
    "training_data_tensor = tn.matrix_to_tensor(training_data, partition, labels=tensor_labels)\n",
    "training_data_tensor.move_index(\"batchsize\", batch_size_position)\n",
    "\n",
    "\n",
    "# Alternatively we could specify a custom factorization\n",
    "custom_partition = [55000,28,28]\n",
    "custom_labels = [\"batchsize\",\"1\",\"2\"] \n",
    "custom_batch_size_position = 1\n",
    "\n",
    "# and create a tensor with this speficified tensorization\n",
    "training_data_tensor_2 = tn.matrix_to_tensor(training_data, custom_partition, labels=custom_labels)\n",
    "training_data_tensor_2.move_index(\"batchsize\", custom_batch_size_position)"
   ]
  },
  {
   "cell_type": "markdown",
   "metadata": {
    "deletable": true,
    "editable": true
   },
   "source": [
    "As you can now see, we have successfully generated the tncontract tensor objects according to our specifications (Don't worry about the zeros, these are just the white pixels on the border of the images)."
   ]
  },
  {
   "cell_type": "code",
   "execution_count": 4,
   "metadata": {
    "collapsed": false,
    "deletable": true,
    "editable": true
   },
   "outputs": [
    {
     "name": "stdout",
     "output_type": "stream",
     "text": [
      "Tensor object: \n",
      "Data type: float32\n",
      "Number of indices: 7\n",
      "\n",
      "Index labels:\n",
      "   0. (dim=2) 1\n",
      "   1. (dim=2) 2\n",
      "   2. (dim=7) 3\n",
      "   3. (dim=55000) batchsize\n",
      "   4. (dim=7) 4\n",
      "   5. (dim=2) 5\n",
      "   6. (dim=2) 6\n",
      "\n",
      "Tensor data = \n",
      "[[[[[[[ 0.          0.        ]\n",
      "      [ 0.          0.        ]]\n",
      "\n",
      "     [[ 0.          0.        ]\n",
      "      [ 0.          0.        ]]\n",
      "\n",
      "     [[ 0.          0.        ]\n",
      "      [ 0.          0.        ]]\n",
      "\n",
      "     ..., \n",
      "     [[ 0.          0.        ]\n",
      "      [ 0.          0.        ]]\n",
      "\n",
      "     [[ 0.          0.        ]\n",
      "      [ 0.          0.        ]]\n",
      "\n",
      "     [[ 0.          0.        ]\n",
      "      [ 0.          0.        ]]]\n",
      "\n",
      "\n",
      "...\n",
      "Printed output of large array was truncated.\n",
      "String representation of full data array returned by tensor.data.__str__().\n"
     ]
    }
   ],
   "source": [
    "print(training_data_tensor)"
   ]
  },
  {
   "cell_type": "code",
   "execution_count": 5,
   "metadata": {
    "collapsed": false,
    "deletable": true,
    "editable": true
   },
   "outputs": [
    {
     "name": "stdout",
     "output_type": "stream",
     "text": [
      "Tensor object: \n",
      "Data type: float32\n",
      "Number of indices: 3\n",
      "\n",
      "Index labels:\n",
      "   0. (dim=28) 1\n",
      "   1. (dim=55000) batchsize\n",
      "   2. (dim=28) 2\n",
      "\n",
      "Tensor data = \n",
      "[[[ 0.  0.  0. ...,  0.  0.  0.]\n",
      "  [ 0.  0.  0. ...,  0.  0.  0.]\n",
      "  [ 0.  0.  0. ...,  0.  0.  0.]\n",
      "  ..., \n",
      "  [ 0.  0.  0. ...,  0.  0.  0.]\n",
      "  [ 0.  0.  0. ...,  0.  0.  0.]\n",
      "  [ 0.  0.  0. ...,  0.  0.  0.]]\n",
      "\n",
      " [[ 0.  0.  0. ...,  0.  0.  0.]\n",
      "  [ 0.  0.  0. ...,  0.  0.  0.]\n",
      "  [ 0.  0.  0. ...,  0.  0.  0.]\n",
      "  ..., \n",
      "  [ 0.  0.  0. ...,  0.  0.  0.]\n",
      "  [ 0.  0.  0. ...,  0.  0.  0.]\n",
      "  [ 0.  0.  0. ...,  0.  0.  0.]]\n",
      "\n",
      " [[ 0.  0.  0. ...,  0.  0.  0.]\n",
      "  [ 0.  0.  0. ...,  0.  0.  0.]\n",
      "  [ 0.  0.  0. ...,  0.  0.  0.]\n",
      "  ..., \n",
      "...\n",
      "Printed output of large array was truncated.\n",
      "String representation of full data array returned by tensor.data.__str__().\n"
     ]
    }
   ],
   "source": [
    "print(training_data_tensor_2)"
   ]
  },
  {
   "cell_type": "markdown",
   "metadata": {
    "deletable": true,
    "editable": true
   },
   "source": [
    "At this stage its possible to go ahead and perform any of the decompositions catered for by tanalysis - for an introduction to the different canonical forms of matrix product states (MPS) currently implemented in tanalysis (in particular the mixed canonical form) see [here](https://arxiv.org/abs/1008.3477).\n",
    "\n",
    "The first option is a full mixed canonical decomposition, with a variety of options. Firstly, we can choose whether to truncate _all_ bonds, or just truncate the bonds attached to the core tensor. We can also choose whether to return just the core tensor, or the core tensor along with the left canonical part and the right canonical part of the MPS, as illustrated below.\n",
    "\n",
    "<img src='mc.jpeg'>\n",
    "\n",
    "Furthermore, we can specify whether or not we would like the method to return the pre and post truncation singular values across bonds, which may help with diagnosis of the method and optimizing the bond-dimension. As a note, for those with previous experience with tensor networks, the decompositions in tanalysis provide _unnormalized_ vectors (just to keep in mind). "
   ]
  },
  {
   "cell_type": "code",
   "execution_count": 6,
   "metadata": {
    "collapsed": true,
    "deletable": true,
    "editable": true
   },
   "outputs": [],
   "source": [
    "# First we set the desired bond dimension of the truncations\n",
    "bond_dimension = 3\n",
    "\n",
    "# mixed canonical decomposition, truncation of all bonds, returning the whole MPS and singular values\n",
    "left_1,right_1,core_1, full_sv_1, ret_sv_1 = ta.mixed_canonical_full_ret_sv(training_data_tensor,\n",
    "                                                                             bond_dimension,\n",
    "                                                                             batch_size_position)\n",
    "\n",
    "# mixed canonical decomposition, truncation of all bonds, returning only core tensor and singular values\n",
    "core_2,full_sv_2, ret_sv_2 = ta.mixed_canonical_core_only_ret_sv(training_data_tensor,\n",
    "                                                                 bond_dimension,\n",
    "                                                                 batch_size_position)\n",
    "\n",
    "# mixed canonical decomposition, truncation of all bonds, returning only the core tensor\n",
    "core_3 = ta.mixed_canonical_core_only(training_data_tensor,bond_dimension,batch_size_position)\n",
    "\n",
    "# mixed canonical decomposition, core truncation only, returning the whole MPS and singular values\n",
    "left_4, right_4, core_4,full_sv_4,ret_sv_4 = ta.mixed_canonical_full_core_truncation_only_ret_sv(training_data_tensor,\n",
    "                                                                                   bond_dimension,\n",
    "                                                                                   batch_size_position)\n",
    "\n",
    "# mixed canonical decomposition, core truncation only, returning the whole MPS and no singular values\n",
    "left_5, right_5, core_5 = ta.mixed_canonical_full_core_truncation_only(training_data_tensor,\n",
    "                                                       bond_dimension,\n",
    "                                                       batch_size_position)\n",
    "\n",
    "# mixed canonical decomposition, core truncation only, returning only the core and the singular values\n",
    "core_6, full_sv_6, ret_sv_6 = ta.mixed_canonical_core_only_core_truncation_only_ret_sv(training_data_tensor,\n",
    "                                                       bond_dimension,\n",
    "                                                       batch_size_position)\n",
    "\n",
    "# All permutations are possible!"
   ]
  },
  {
   "cell_type": "markdown",
   "metadata": {
    "deletable": true,
    "editable": true
   },
   "source": [
    "By looking at the number of singular values across each bond before and after truncation we can verify that the method has worked correctly. Furthermore, by looking at the singular values themselves we could make decisions regarding the suitability of this bond dimension."
   ]
  },
  {
   "cell_type": "code",
   "execution_count": 7,
   "metadata": {
    "collapsed": false,
    "deletable": true,
    "editable": true
   },
   "outputs": [
    {
     "name": "stdout",
     "output_type": "stream",
     "text": [
      "[2, 4, 21, 21, 4, 2]\n",
      "[2, 3, 3, 3, 3, 2]\n"
     ]
    }
   ],
   "source": [
    "full_bs_list_1 = [np.size(full_sv_1[k]) for k in range(np.shape(full_sv_1)[0])]\n",
    "ret_bs_list_1 = [np.size(ret_sv_1[k]) for k in range(np.shape(ret_sv_1)[0])]\n",
    "\n",
    "print(full_bs_list_1)\n",
    "print(ret_bs_list_1)"
   ]
  },
  {
   "cell_type": "markdown",
   "metadata": {
    "deletable": true,
    "editable": true
   },
   "source": [
    "Now, what we are really interested in is obtaining new compressed feature vectors. As suggested [here](https://arxiv.org/abs/1503.00516v2), and illustrated below, one method of doing this is to extract and reshape the core tensor:\n",
    "\n",
    "<img src='reshape.jpeg'>\n"
   ]
  },
  {
   "cell_type": "code",
   "execution_count": 24,
   "metadata": {
    "collapsed": false,
    "deletable": true,
    "editable": true
   },
   "outputs": [
    {
     "name": "stdout",
     "output_type": "stream",
     "text": [
      "The compressed training dataset has dimensions (55000, 9)\n"
     ]
    }
   ],
   "source": [
    "# Here we convert the core tensor into a matrix - note that the \"c\" tells us that we want to use the batch size index\n",
    "# as the row index of the resulting matrix. By convention we always label the left index of a 3 tensor with \"a\", \n",
    "# the right index with \"b\" and the top index with \"c\".\n",
    "\n",
    "reduced_training_data_1 = tn.tensor_to_matrix(core_1, \"c\")\n",
    "print(\"The compressed training dataset has dimensions\", np.shape(reduced_training_data_1))"
   ]
  },
  {
   "cell_type": "markdown",
   "metadata": {
    "deletable": true,
    "editable": true
   },
   "source": [
    "As a note, another way to extract new compressed feature _tensors_ (as opposed to _vectors_) from the mixed canonical decomposition would be to \"close\" the batch size index with the address of the image you are interested in, and use the entire resulting tensor - in the example above, we would have a 5-tensor after closing the batch size index - as the new feature tensor. This however would require using a learning algorithm architecture which can deal with higher order tensors as inputs (such as a [tensorized neural network](https://arxiv.org/abs/1509.06569)).\n",
    "\n",
    "As we have seen, the above methods for \"core-extraction\" feature selection required explicitly tensorizing the data, if you don't want to get your hands dirty, you can also plug and play, by using the following methods which take in a matrix and return a matrix with a compressed features dimension, via the core extraction and reshaping method. Once again you have a few options, you can choose to use core truncation only, or full truncation, and you can choose whether to use the default factorization - the symmetrized max length factorization - or to supply your own factorization of the original number of features."
   ]
  },
  {
   "cell_type": "code",
   "execution_count": 25,
   "metadata": {
    "collapsed": false,
    "deletable": true,
    "editable": true
   },
   "outputs": [
    {
     "name": "stdout",
     "output_type": "stream",
     "text": [
      "Our compressed datasets have the following dimensions:\n",
      "\n",
      "1a:  (55000, 25)\n",
      "1b:  (55000, 25)\n",
      "2a:  (55000, 25)\n",
      "2b:  (55000, 25)\n"
     ]
    }
   ],
   "source": [
    "# Either you can specify that the internal methodology truncates all bonds and uses the default tensorization\n",
    "core_compressed_1a = ta.core_compression(training_data, bond_dimension)\n",
    "\n",
    "# Or, you can truncate all bonds, and supply your own tensorization (factorization) of the features dimension\n",
    "factorization = [2,2,7,7,2,2]\n",
    "core_compressed_1b = ta.core_compression_with_partition(training_data, \n",
    "                                                        bond_dimension,\n",
    "                                                        factorization,\n",
    "                                                        batch_size_position)\n",
    "\n",
    "# Or the internal methodology can truncate only the bonds attached to the core tensor, with default tensorization\n",
    "core_compressed_2a = ta.core_compression_core_truncation_only(training_data,bond_dimension)\n",
    "\n",
    "# Or, core truncation only with the factorization supplied.\n",
    "core_compressed_2b = ta.core_compression_core_truncation_only_with_partition(training_data,\n",
    "                                                                             bond_dimension,\n",
    "                                                                             factorization,\n",
    "                                                                             batch_size_position)\n",
    "\n",
    "# Lets verify that we get the output datasets that we expect\n",
    "print(\"Our compressed datasets have the following dimensions:\")\n",
    "print()\n",
    "print(\"1a: \",np.shape(core_compressed_1a))\n",
    "print(\"1b: \",np.shape(core_compressed_1b))\n",
    "print(\"2a: \",np.shape(core_compressed_2a))\n",
    "print(\"2b: \",np.shape(core_compressed_2b))"
   ]
  },
  {
   "cell_type": "markdown",
   "metadata": {
    "deletable": true,
    "editable": true
   },
   "source": [
    "In addition to the mixed canonical decompositions above, we can also perform a left canonical decomposition (which is probably what you would use if you wanted to use a tensorized neural network):"
   ]
  },
  {
   "cell_type": "code",
   "execution_count": 10,
   "metadata": {
    "collapsed": true,
    "deletable": true,
    "editable": true
   },
   "outputs": [],
   "source": [
    "left_canonical_mps = ta.left_canonical_decompose_no_diagnostics(training_data_tensor, bond_dimension)"
   ]
  },
  {
   "cell_type": "markdown",
   "metadata": {
    "deletable": true,
    "editable": true
   },
   "source": [
    "Or finally, you could, obtain a left canonical decomposition not of a tensorized version of the entire dataset (as we have done above), but rather of _each feature vector individually_. Once again, this could be useful if you wanted to explore tensorized neural networks.\n",
    "\n",
    "<img src='ind.jpeg'>\n"
   ]
  },
  {
   "cell_type": "code",
   "execution_count": 11,
   "metadata": {
    "collapsed": true,
    "deletable": true,
    "editable": true
   },
   "outputs": [],
   "source": [
    "individual_mps_compressed_data = ta.full_dataset_individual_left_canonical_mps_compression(training_data,\n",
    "                                                                                           pre_partition,\n",
    "                                                                                           bond_dimension)"
   ]
  },
  {
   "cell_type": "markdown",
   "metadata": {
    "deletable": true,
    "editable": true
   },
   "source": [
    "Now that we have extracted a new set of training features, we would like to obtain the equivalent representation of our test data. Two possible ways to do this are as follows:\n",
    "\n",
    "   1. One could perform a decomposition of the test data set, as we did for the training data set, and then extract the core tensor, or use the whole MPS as a feature tensor in an analagous way.\n",
    "   2. One could use the left and right tensors from the training set to extract a core tensor from the test set, as sugggested and discussed [here](https://arxiv.org/abs/1503.00516v2). \n",
    "\n",
    "The second method can be achieved easily in tanalysis as follows:"
   ]
  },
  {
   "cell_type": "code",
   "execution_count": 26,
   "metadata": {
    "collapsed": false,
    "deletable": true,
    "editable": true
   },
   "outputs": [
    {
     "name": "stdout",
     "output_type": "stream",
     "text": [
      "Our test data set now has dimensions (10000, 9)\n"
     ]
    }
   ],
   "source": [
    "compressed_test_1 = ta.extract_core_tensor_via_common_features_from_matrix(test_data, left_1, right_1)\n",
    "print(\"Our test data set now has dimensions\", np.shape(compressed_test_1))"
   ]
  },
  {
   "cell_type": "markdown",
   "metadata": {},
   "source": [
    "Great, at this stage we have seen various methods for performing feature extraction and dimensionality reduction of both training data, and test data - which of course may be initially known, or obtained in an online fashion. These methods result in either new feature vectors, with a reduced number of parameters, or new feature tensors, also with a reduced number of parameters (and, an explictly available correlation structure). However, in certain contexts, such as this example with the MNIST data, we may want to reconstruct from our compressed/transformed feature tensors a new dataset with the same shape/size as the original dataset, to allow for visual inspection of features or calculation of certain distance metrics with respect to the original dataset.\n",
    "\n",
    "To illustrate how tanalysis caters for this functionality (by in part utilizing tncontract methods) lets go ahead and reconstruct images from the different compressed MPS representations we have so far achieved:\n",
    "\n",
    "  1. The fully truncated mixed canonical decomposition of the entire dataset.\n",
    "  2. The \"core-truncated only\" mixed canonical decomposition of the entire dataset.\n",
    "  3. The left canonical decomposition of the entire dataset.\n",
    "  4. The left canonical decompositions of each _individual_ image."
   ]
  },
  {
   "cell_type": "code",
   "execution_count": 13,
   "metadata": {
    "collapsed": true
   },
   "outputs": [],
   "source": [
    "# Reconstruction of a 55000x784 dataset from our fully truncated mixed canonical decomposition\n",
    "training_data_reconstructed_1 = ta.reconstruct_to_matrix_from_mc(left_1, right_1, core_1)\n",
    "\n",
    "# Reconstruction of a 55000x784 dataset from our \"core-truncation only\" mixed canonical decomposition\n",
    "training_data_reconstructed_4 = ta.reconstruct_to_matrix_from_mc(left_4, right_4, core_4)\n",
    "\n",
    "# Reconstruct a 550008784 dataset from our left-canonical decomposition of the entire dataset\n",
    "left_canonical_reconstructed = ta.reconstruct_to_matrix(left_canonical_mps,batch_size_position)  \n",
    "\n",
    "# Perform a left canonical decomposition of ALL feature vectors, and return a 55000x784 dataset\n",
    "individual_compressed_reconstructed = \\\n",
    "                ta.full_dataset_individual_left_canonical_mps_compression_with_reconstruction(training_data,\n",
    "                                                                                             pre_partition,\n",
    "                                                                                             bond_dimension)\n",
    "\n",
    "# Now we reshape all the 784 dimensional feature vectors into 28x28 images that we can visualize\n",
    "training_images_original = tn.matrix_to_tensor(training_data,[training_set_size,28,28], labels = [\"batchsize\",\"l\",\"r\"])\n",
    "training_images_compressed_1 = tn.matrix_to_tensor(training_data_reconstructed_1,[training_set_size,28,28], labels = [\"batchsize\",\"l\",\"r\"])\n",
    "training_images_compressed_4 = tn.matrix_to_tensor(training_data_reconstructed_4,[training_set_size,28,28], labels = [\"batchsize\",\"l\",\"r\"])\n",
    "training_images_compressed_lc = tn.matrix_to_tensor(left_canonical_reconstructed,[training_set_size,28,28], labels = [\"batchsize\",\"l\",\"r\"])\n",
    "training_images_individual_compressed = np.reshape(individual_compressed_reconstructed,[training_set_size,28,28])"
   ]
  },
  {
   "cell_type": "markdown",
   "metadata": {},
   "source": [
    "Now that we have these reconstructions, lets go ahead and compare them to the original images. The columns of the plots, from left to right, display a selection of:\n",
    "\n",
    "  1. The original images\n",
    "  2. The images reconstructed from the fully truncated mixed canonical decomposition.\n",
    "  3. The images reconstructed from the \"core-truncated only\" mixed canonical decomposition.\n",
    "  4. The images reconstructed from the left canonical decomposition of the entire dataset.\n",
    "  5. The images reconstrued from the left canonical decompositions of each _individual_ image.\n",
    "\n",
    "These images may not look that impressive, but a bond dimension of 3 is _extremely_ small - via the core extraction method of extracting new feature vectors, a bond dimension of 3 would result in 9 dimensional feature vectors, reduced from 784 dimensions! Hopefully this package will make it easy for you to experiment with different bond dimensions and tensorizations :)"
   ]
  },
  {
   "cell_type": "code",
   "execution_count": 14,
   "metadata": {
    "collapsed": false
   },
   "outputs": [
    {
     "data": {
      "image/png": "[encoded data removed]",
      "text/plain": [
       "<matplotlib.figure.Figure at 0x1a268dc88>"
      ]
     },
     "metadata": {},
     "output_type": "display_data"
    }
   ],
   "source": [
    "num_display = 10\n",
    "display_indices = rd.choice(training_set_size,10,replace=False)\n",
    "\n",
    "fig, axes1 = plt.subplots(num_display,5,figsize=(15,15))\n",
    "for j in range(num_display):\n",
    "        axes1[j][0].set_axis_off()\n",
    "        axes1[j][0].imshow(training_images_original.data[display_indices[j],:,:], cmap = 'gray')\n",
    "        axes1[j][1].set_axis_off()\n",
    "        axes1[j][1].imshow(training_images_compressed_1.data[display_indices[j],:,:], cmap = 'gray')\n",
    "        axes1[j][2].set_axis_off()\n",
    "        axes1[j][2].imshow(training_images_compressed_4.data[display_indices[j],:,:], cmap = 'gray')\n",
    "        axes1[j][3].set_axis_off()\n",
    "        axes1[j][3].imshow(training_images_compressed_lc.data[display_indices[j],:,:], cmap = 'gray')\n",
    "        axes1[j][4].set_axis_off()\n",
    "        axes1[j][4].imshow(training_images_individual_compressed[display_indices[j],:,:], cmap = 'gray')"
   ]
  },
  {
   "cell_type": "markdown",
   "metadata": {},
   "source": [
    "Great. At this stage we have achieved a pretty good overview of what tanalysis can (currently) do, and the conventions for specifying tensorizations and decompositions. To finish off lets look at a complete end-to-end example of using tanalysis as a data pre-processing recipe before a feed-forward deep neural network classifier (built using a [Keras sequential model](https://keras.io/models/sequential/)).\n",
    "\n",
    "We will use the core-extraction method, from a fully truncated mixed canonical decomposition, as first introduced [here](https://arxiv.org/abs/1503.00516v2). "
   ]
  },
  {
   "cell_type": "code",
   "execution_count": 19,
   "metadata": {
    "collapsed": false
   },
   "outputs": [
    {
     "name": "stdout",
     "output_type": "stream",
     "text": [
      "Each image is now represented by a 25 dimensional vector.\n",
      "Max training accuracy on validation set: 0.982909097455\n",
      "Final accuracy on test set: 0.9817\n"
     ]
    }
   ],
   "source": [
    "# ---------------- tensorization ----------------------------------------------------------------------\n",
    "\n",
    "# We use the default tensorization - which is the symmetrized maximum length factorization\n",
    "pre_partition = ta.symmetrize(ta.raw_partition(num_features)) \n",
    "partition = [training_set_size]\n",
    "partition.extend(pre_partition)\n",
    "\n",
    "# We place the batch size index in the centre\n",
    "num_cores = np.size(partition)\n",
    "batch_size_position = int(round((num_cores - 1) / 2))        \n",
    "\n",
    "# Create the labels according to the specified convention\n",
    "tensor_labels = [\"batchsize\"]\n",
    "labels = [str(j + 1) for j in range(np.size(pre_partition))]\n",
    "tensor_labels.extend(labels)\n",
    "\n",
    "# tensorize the data via tncontract\n",
    "training_data_tensor = tn.matrix_to_tensor(training_data, partition, labels=tensor_labels)\n",
    "training_data_tensor.move_index(\"batchsize\", batch_size_position)\n",
    "\n",
    "# -------------- MPS decomposition and extraction of test and training feature vectors ---------------\n",
    "\n",
    "# Specify the bond dimension\n",
    "bond_dimension = 5           \n",
    "\n",
    "# Specify the decomposition. Return left and right tensors for extracting test features from training decomposition.\n",
    "l_1,r_1,c_1 = ta.mixed_canonical_full(training_data_tensor,bond_dimension,batch_size_position)\n",
    "\n",
    "# Extract the core tensor of the decomposition for training\n",
    "compressed_training = tn.tensor_to_matrix(c_1, \"c\")\n",
    "\n",
    "# Extract features from the test set via left and right tensors from the training decomposition\n",
    "compressed_test = ta.extract_core_tensor_via_common_features_from_matrix(test_data, l_1, r_1)\n",
    "\n",
    "# ------------- Build and train the FF-NN -------------------------------------------------------------\n",
    "\n",
    "# Provide the dimensions for the input layers and output layers\n",
    "num_red_features = np.shape(compressed_training)[1]\n",
    "num_categories = 10\n",
    "\n",
    "# We expect a bond dimension of 5 to result in 25 dimensional feature vectors - lets verify:\n",
    "print(\"Each image is now represented by a \"+str(num_red_features)+\" dimensional vector.\")\n",
    "\n",
    "# Specify the NN architecture\n",
    "ff_hidden_layers = [500,500]\n",
    "ff_dropouts = [0.1,0.1]\n",
    "\n",
    "# Specify the training details\n",
    "stopping_patience = 5\n",
    "batch_size = 100\n",
    "epochs = 500\n",
    "\n",
    "# Build the sequential model\n",
    "nnet = Sequential()\n",
    "nnet.add(Dense(ff_hidden_layers[0], activation='relu', input_shape=(num_red_features,)))\n",
    "nnet.add(Dropout(ff_dropouts[0]))\n",
    "\n",
    "count = 1\n",
    "for j in ff_hidden_layers[1:]:\n",
    "    nnet.add(Dense(j, activation='relu'))\n",
    "    nnet.add(Dropout(ff_dropouts[count]))\n",
    "    count += 1\n",
    "    \n",
    "nnet.add(Dense(num_categories, activation='softmax'))\n",
    "nnet.compile(optimizer='adam',loss='categorical_crossentropy',metrics=['accuracy'])\n",
    "\n",
    "# Train the NN model\n",
    "early_stopping = EarlyStopping(monitor='val_acc', mode='auto',patience=stopping_patience)\n",
    "\n",
    "history = nnet.fit(compressed_training, training_labels,\n",
    "                    batch_size=batch_size,\n",
    "                    epochs=epochs,\n",
    "                    verbose=0,\n",
    "                    validation_split=0.1,\n",
    "                    callbacks = [early_stopping])\n",
    "\n",
    "# Evaluate the model on the test set\n",
    "final_score = nnet.evaluate(compressed_test, test_labels, verbose=0)\n",
    "max_acc = np.max(history.history['val_acc'])\n",
    "\n",
    "print('Max training accuracy on validation set:', max_acc)\n",
    "print('Final accuracy on test set:', final_score[1])"
   ]
  },
  {
   "cell_type": "markdown",
   "metadata": {},
   "source": [
    "Great, we achieved an accuracy of just over 98%, with very few features, and a relatively simple NN. The result is definitely not state of the art, but hopefully this motivates and faciliates new experimentation and research!"
   ]
  },
  {
   "cell_type": "code",
   "execution_count": null,
   "metadata": {
    "collapsed": true
   },
   "outputs": [],
   "source": []
  }
 ],
 "metadata": {
  "anaconda-cloud": {},
  "kernelspec": {
   "display_name": "Python [conda env:py35]",
   "language": "python",
   "name": "conda-env-py35-py"
  },
  "language_info": {
   "codemirror_mode": {
    "name": "ipython",
    "version": 3
   },
   "file_extension": ".py",
   "mimetype": "text/x-python",
   "name": "python",
   "nbconvert_exporter": "python",
   "pygments_lexer": "ipython3",
   "version": "3.5.2"
  }
 },
 "nbformat": 4,
 "nbformat_minor": 2
}
